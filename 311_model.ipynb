{
 "cells": [
  {
   "cell_type": "code",
   "execution_count": 78,
   "metadata": {},
   "outputs": [
    {
     "data": {
      "text/html": [
       "<div>\n",
       "<style scoped>\n",
       "    .dataframe tbody tr th:only-of-type {\n",
       "        vertical-align: middle;\n",
       "    }\n",
       "\n",
       "    .dataframe tbody tr th {\n",
       "        vertical-align: top;\n",
       "    }\n",
       "\n",
       "    .dataframe thead th {\n",
       "        text-align: right;\n",
       "    }\n",
       "</style>\n",
       "<table border=\"1\" class=\"dataframe\">\n",
       "  <thead>\n",
       "    <tr style=\"text-align: right;\">\n",
       "      <th></th>\n",
       "      <th>City Council District</th>\n",
       "      <th>Department</th>\n",
       "      <th>Service Request Type</th>\n",
       "      <th>ERT (Estimated Response Time)</th>\n",
       "      <th>Status</th>\n",
       "      <th>Priority</th>\n",
       "      <th>Zip Code</th>\n",
       "    </tr>\n",
       "  </thead>\n",
       "  <tbody>\n",
       "    <tr>\n",
       "      <th>0</th>\n",
       "      <td>2</td>\n",
       "      <td>Code Compliance</td>\n",
       "      <td>CCS</td>\n",
       "      <td>4</td>\n",
       "      <td>Closed</td>\n",
       "      <td>Standard</td>\n",
       "      <td>75226.0</td>\n",
       "    </tr>\n",
       "    <tr>\n",
       "      <th>1</th>\n",
       "      <td>5</td>\n",
       "      <td>Water Utilities</td>\n",
       "      <td>DWU</td>\n",
       "      <td>5</td>\n",
       "      <td>Closed (Duplicate)</td>\n",
       "      <td>Standard</td>\n",
       "      <td>75217.0</td>\n",
       "    </tr>\n",
       "    <tr>\n",
       "      <th>2</th>\n",
       "      <td>4</td>\n",
       "      <td>Code Compliance</td>\n",
       "      <td>CCS</td>\n",
       "      <td>4</td>\n",
       "      <td>Closed</td>\n",
       "      <td>Standard</td>\n",
       "      <td>75216.0</td>\n",
       "    </tr>\n",
       "    <tr>\n",
       "      <th>3</th>\n",
       "      <td>3</td>\n",
       "      <td>Code Compliance</td>\n",
       "      <td>CCS</td>\n",
       "      <td>4</td>\n",
       "      <td>Closed</td>\n",
       "      <td>Standard</td>\n",
       "      <td>75241.0</td>\n",
       "    </tr>\n",
       "    <tr>\n",
       "      <th>4</th>\n",
       "      <td>8</td>\n",
       "      <td>Code Compliance</td>\n",
       "      <td>CCS</td>\n",
       "      <td>4</td>\n",
       "      <td>Closed</td>\n",
       "      <td>Standard</td>\n",
       "      <td>75217.0</td>\n",
       "    </tr>\n",
       "  </tbody>\n",
       "</table>\n",
       "</div>"
      ],
      "text/plain": [
       "   City Council District       Department Service Request Type  \\\n",
       "0                      2  Code Compliance                  CCS   \n",
       "1                      5  Water Utilities                  DWU   \n",
       "2                      4  Code Compliance                  CCS   \n",
       "3                      3  Code Compliance                  CCS   \n",
       "4                      8  Code Compliance                  CCS   \n",
       "\n",
       "   ERT (Estimated Response Time)              Status  Priority  Zip Code  \n",
       "0                              4              Closed  Standard   75226.0  \n",
       "1                              5  Closed (Duplicate)  Standard   75217.0  \n",
       "2                              4              Closed  Standard   75216.0  \n",
       "3                              4              Closed  Standard   75241.0  \n",
       "4                              4              Closed  Standard   75217.0  "
      ]
     },
     "execution_count": 78,
     "metadata": {},
     "output_type": "execute_result"
    }
   ],
   "source": [
    "import seaborn as sns\n",
    "import pandas as pd\n",
    "import numpy as np\n",
    "import matplotlib.pyplot as plt\n",
    "import warnings\n",
    "\n",
    "\n",
    "warnings.filterwarnings(\"ignore\")\n",
    "\n",
    "df311 = pd.read_csv(r\"C:\\Users\\rebel\\UE_work\\Urban_Echo\\311_cleaned.csv\")\n",
    "\n",
    "df311.head()"
   ]
  },
  {
   "cell_type": "code",
   "execution_count": 79,
   "metadata": {},
   "outputs": [
    {
     "name": "stdout",
     "output_type": "stream",
     "text": [
      "['City Council District', 'Department', 'Service Request Type', 'ERT (Estimated Response Time)', 'Status', 'Priority', 'Zip Code']\n"
     ]
    }
   ],
   "source": [
    "print(df311.columns.tolist())"
   ]
  },
  {
   "cell_type": "code",
   "execution_count": 46,
   "metadata": {},
   "outputs": [],
   "source": [
    "#df311 = df311[~df311['City Council District'].astype(str).str.contains(',')]\n"
   ]
  },
  {
   "cell_type": "code",
   "execution_count": 80,
   "metadata": {},
   "outputs": [
    {
     "name": "stdout",
     "output_type": "stream",
     "text": [
      "City Council District            category\n",
      "Department                       category\n",
      "Service Request Type             category\n",
      "ERT (Estimated Response Time)       int64\n",
      "Status                           category\n",
      "Priority                         category\n",
      "Zip Code                            int64\n",
      "dtype: object\n"
     ]
    }
   ],
   "source": [
    "#df311 = df311[df311[\"City Council District\"].str.contains(\",\") == False]\n",
    "df311['City Council District'] = df311['City Council District'].astype('category')\n",
    "#df311['Address'] = df311['Address'].astype('category')\n",
    "df311['Department'] = df311['Department'].astype('category')\n",
    "df311['Service Request Type'] = df311['Service Request Type'].astype('category')\n",
    "df311['ERT (Estimated Response Time)'] = df311['ERT (Estimated Response Time)'].astype('int64')\n",
    "df311['Status'] = df311['Status'].astype('category')\n",
    "df311['Priority'] = df311['Priority'].astype('category')\n",
    "df311['Zip Code'] = df311['Zip Code'].astype('int64')\n",
    "# df311['Unique Key'] = df311['Priority'].astype('category')\n",
    "# df311['Lat_Long Location'] = df311['Lat_Long Location'].astype('category')\n",
    "\n",
    "\n",
    "# removed and delegated to cleaning\n",
    "\n",
    "# df311 = df311.drop(columns='Lat_Long Location')\n",
    "# df311 = df311.drop(columns= 'Unique Key')\n",
    "# # df311 = df311.drop(columns=\"Address\")\n",
    "\n",
    "print(df311.dtypes)"
   ]
  },
  {
   "cell_type": "code",
   "execution_count": 81,
   "metadata": {},
   "outputs": [
    {
     "name": "stdout",
     "output_type": "stream",
     "text": [
      "['City Council District', 'Department', 'Service Request Type', 'ERT (Estimated Response Time)', 'Status', 'Priority', 'Zip Code']\n"
     ]
    }
   ],
   "source": [
    "print(df311.columns.tolist())"
   ]
  },
  {
   "cell_type": "code",
   "execution_count": 82,
   "metadata": {},
   "outputs": [
    {
     "data": {
      "text/html": [
       "<div>\n",
       "<style scoped>\n",
       "    .dataframe tbody tr th:only-of-type {\n",
       "        vertical-align: middle;\n",
       "    }\n",
       "\n",
       "    .dataframe tbody tr th {\n",
       "        vertical-align: top;\n",
       "    }\n",
       "\n",
       "    .dataframe thead th {\n",
       "        text-align: right;\n",
       "    }\n",
       "</style>\n",
       "<table border=\"1\" class=\"dataframe\">\n",
       "  <thead>\n",
       "    <tr style=\"text-align: right;\">\n",
       "      <th></th>\n",
       "      <th>City Council District</th>\n",
       "      <th>Department</th>\n",
       "      <th>Service Request Type</th>\n",
       "      <th>Status</th>\n",
       "      <th>Priority</th>\n",
       "    </tr>\n",
       "  </thead>\n",
       "  <tbody>\n",
       "    <tr>\n",
       "      <th>count</th>\n",
       "      <td>1165511</td>\n",
       "      <td>1165511</td>\n",
       "      <td>1165511</td>\n",
       "      <td>1165511</td>\n",
       "      <td>1165511</td>\n",
       "    </tr>\n",
       "    <tr>\n",
       "      <th>unique</th>\n",
       "      <td>14</td>\n",
       "      <td>29</td>\n",
       "      <td>47</td>\n",
       "      <td>14</td>\n",
       "      <td>7</td>\n",
       "    </tr>\n",
       "    <tr>\n",
       "      <th>top</th>\n",
       "      <td>4</td>\n",
       "      <td>Code Compliance</td>\n",
       "      <td>CCS</td>\n",
       "      <td>Closed</td>\n",
       "      <td>Standard</td>\n",
       "    </tr>\n",
       "    <tr>\n",
       "      <th>freq</th>\n",
       "      <td>123603</td>\n",
       "      <td>400138</td>\n",
       "      <td>399559</td>\n",
       "      <td>1075343</td>\n",
       "      <td>954853</td>\n",
       "    </tr>\n",
       "  </tbody>\n",
       "</table>\n",
       "</div>"
      ],
      "text/plain": [
       "        City Council District       Department Service Request Type   Status  \\\n",
       "count                 1165511          1165511              1165511  1165511   \n",
       "unique                     14               29                   47       14   \n",
       "top                         4  Code Compliance                  CCS   Closed   \n",
       "freq                   123603           400138               399559  1075343   \n",
       "\n",
       "        Priority  \n",
       "count    1165511  \n",
       "unique         7  \n",
       "top     Standard  \n",
       "freq      954853  "
      ]
     },
     "execution_count": 82,
     "metadata": {},
     "output_type": "execute_result"
    }
   ],
   "source": [
    "df311.describe(exclude=np.number)"
   ]
  },
  {
   "cell_type": "code",
   "execution_count": 50,
   "metadata": {},
   "outputs": [],
   "source": [
    "# convert the dtypes from object type to float, int64, etc.\n",
    "# There are string values contained within this column - change the \n",
    "# 311_cleaned.csv file\n",
    "#df311[\"City Council District\"].astype(np.int64)"
   ]
  },
  {
   "cell_type": "code",
   "execution_count": 83,
   "metadata": {},
   "outputs": [],
   "source": [
    "from sklearn.model_selection import train_test_split\n",
    "\n",
    "# Extract feature and target arrays\n",
    "X, y = df311.drop('ERT (Estimated Response Time)', axis=1), df311[['ERT (Estimated Response Time)']]"
   ]
  },
  {
   "cell_type": "code",
   "execution_count": 84,
   "metadata": {},
   "outputs": [],
   "source": [
    "# Split the data\n",
    "X_train, X_test, y_train, y_test = train_test_split(X, y, random_state=1)\n",
    "#print(X_train.dtypes)"
   ]
  },
  {
   "cell_type": "code",
   "execution_count": 85,
   "metadata": {},
   "outputs": [],
   "source": [
    "# Assuming df311['City Council District'] contains your categorical labels\n",
    "# Instantiate LabelEncoder\n",
    "\n",
    "import xgboost as xgb\n",
    "from sklearn.preprocessing import LabelEncoder\n",
    "\n",
    "label_encoder = LabelEncoder()\n",
    "\n",
    "# Fit label encoder and transform the labels\n",
    "df311['City Council Districtt'] = label_encoder.fit_transform(df311['City Council District'])\n",
    "df311['Department'] = label_encoder.fit_transform(df311['Department'])\n",
    "df311['Service Request Type'] = label_encoder.fit_transform(df311['Service Request Type'])\n",
    "df311['Status'] = label_encoder.fit_transform(df311['Status'])\n",
    "df311['Priority'] = label_encoder.fit_transform(df311['Priority'])\n",
    "\n",
    "# dtrain_clf = xgb.DMatrix(data=X_train, label=encoded_labels[:len(X_train)], enable_categorical=True)\n",
    "# dtest_clf = xgb.DMatrix(data=X_test, label=encoded_labels[len(X_train):], enable_categorical=True)\n"
   ]
  },
  {
   "cell_type": "code",
   "execution_count": 86,
   "metadata": {},
   "outputs": [],
   "source": [
    "import xgboost as xgb\n",
    "\n",
    "# Create regression matrices\n",
    "dtrain_reg = xgb.DMatrix(X_train, y_train, enable_categorical=True)\n",
    "dtest_reg = xgb.DMatrix(X_test, y_test, enable_categorical=True)"
   ]
  },
  {
   "cell_type": "markdown",
   "metadata": {},
   "source": []
  },
  {
   "cell_type": "code",
   "execution_count": 87,
   "metadata": {},
   "outputs": [],
   "source": [
    "import numpy as np "
   ]
  },
  {
   "cell_type": "code",
   "execution_count": 93,
   "metadata": {},
   "outputs": [
    {
     "name": "stdout",
     "output_type": "stream",
     "text": [
      "[0]\tvalidation-rmse:1.75802\ttrain-rmse:1.75094\n",
      "[250]\tvalidation-rmse:1.48198\ttrain-rmse:1.46409\n",
      "[500]\tvalidation-rmse:1.48303\ttrain-rmse:1.46243\n",
      "[750]\tvalidation-rmse:1.48365\ttrain-rmse:1.46196\n",
      "[1000]\tvalidation-rmse:1.48416\ttrain-rmse:1.46172\n",
      "[1250]\tvalidation-rmse:1.48452\ttrain-rmse:1.46158\n",
      "[1500]\tvalidation-rmse:1.48469\ttrain-rmse:1.46152\n",
      "[1750]\tvalidation-rmse:1.48483\ttrain-rmse:1.46147\n",
      "[2000]\tvalidation-rmse:1.48494\ttrain-rmse:1.46145\n",
      "[2250]\tvalidation-rmse:1.48506\ttrain-rmse:1.46143\n",
      "[2500]\tvalidation-rmse:1.48512\ttrain-rmse:1.46142\n",
      "[2750]\tvalidation-rmse:1.48519\ttrain-rmse:1.46141\n",
      "[3000]\tvalidation-rmse:1.48524\ttrain-rmse:1.46140\n",
      "[3250]\tvalidation-rmse:1.48527\ttrain-rmse:1.46139\n",
      "[3500]\tvalidation-rmse:1.48528\ttrain-rmse:1.46139\n",
      "[3750]\tvalidation-rmse:1.48528\ttrain-rmse:1.46139\n",
      "[3895]\tvalidation-rmse:1.48528\ttrain-rmse:1.46139\n"
     ]
    }
   ],
   "source": [
    "params = {\"objective\": \"reg:squarederror\", \"tree_method\": \"gpu_hist\"}\n",
    "n = 10000\n",
    "\n",
    "evals = [(dtest_reg, \"validation\"), (dtrain_reg, \"train\")]\n",
    "\n",
    "\n",
    "model = xgb.train(\n",
    "   params=params,\n",
    "   dtrain=dtrain_reg,\n",
    "   num_boost_round=n,\n",
    "   evals=evals,\n",
    "   early_stopping_rounds=500,\n",
    "   verbose_eval=250\n",
    ")"
   ]
  },
  {
   "cell_type": "code",
   "execution_count": 94,
   "metadata": {},
   "outputs": [],
   "source": [
    "params = {\"objective\": \"reg:squarederror\", \"tree_method\": \"gpu_hist\"}\n",
    "n = 1000\n",
    "\n",
    "results = xgb.cv(\n",
    "   params, dtrain_reg,\n",
    "   num_boost_round=n,\n",
    "   nfold=5,\n",
    "   early_stopping_rounds=20\n",
    ")"
   ]
  },
  {
   "cell_type": "code",
   "execution_count": 95,
   "metadata": {},
   "outputs": [
    {
     "data": {
      "text/html": [
       "<div>\n",
       "<style scoped>\n",
       "    .dataframe tbody tr th:only-of-type {\n",
       "        vertical-align: middle;\n",
       "    }\n",
       "\n",
       "    .dataframe tbody tr th {\n",
       "        vertical-align: top;\n",
       "    }\n",
       "\n",
       "    .dataframe thead th {\n",
       "        text-align: right;\n",
       "    }\n",
       "</style>\n",
       "<table border=\"1\" class=\"dataframe\">\n",
       "  <thead>\n",
       "    <tr style=\"text-align: right;\">\n",
       "      <th></th>\n",
       "      <th>train-rmse-mean</th>\n",
       "      <th>train-rmse-std</th>\n",
       "      <th>test-rmse-mean</th>\n",
       "      <th>test-rmse-std</th>\n",
       "    </tr>\n",
       "  </thead>\n",
       "  <tbody>\n",
       "    <tr>\n",
       "      <th>0</th>\n",
       "      <td>1.750931</td>\n",
       "      <td>0.001056</td>\n",
       "      <td>1.751055</td>\n",
       "      <td>0.004687</td>\n",
       "    </tr>\n",
       "    <tr>\n",
       "      <th>1</th>\n",
       "      <td>1.624217</td>\n",
       "      <td>0.000983</td>\n",
       "      <td>1.624553</td>\n",
       "      <td>0.004414</td>\n",
       "    </tr>\n",
       "    <tr>\n",
       "      <th>2</th>\n",
       "      <td>1.557276</td>\n",
       "      <td>0.001016</td>\n",
       "      <td>1.557933</td>\n",
       "      <td>0.003997</td>\n",
       "    </tr>\n",
       "    <tr>\n",
       "      <th>3</th>\n",
       "      <td>1.522364</td>\n",
       "      <td>0.000879</td>\n",
       "      <td>1.523184</td>\n",
       "      <td>0.003936</td>\n",
       "    </tr>\n",
       "    <tr>\n",
       "      <th>4</th>\n",
       "      <td>1.504356</td>\n",
       "      <td>0.000831</td>\n",
       "      <td>1.505330</td>\n",
       "      <td>0.003812</td>\n",
       "    </tr>\n",
       "  </tbody>\n",
       "</table>\n",
       "</div>"
      ],
      "text/plain": [
       "   train-rmse-mean  train-rmse-std  test-rmse-mean  test-rmse-std\n",
       "0         1.750931        0.001056        1.751055       0.004687\n",
       "1         1.624217        0.000983        1.624553       0.004414\n",
       "2         1.557276        0.001016        1.557933       0.003997\n",
       "3         1.522364        0.000879        1.523184       0.003936\n",
       "4         1.504356        0.000831        1.505330       0.003812"
      ]
     },
     "execution_count": 95,
     "metadata": {},
     "output_type": "execute_result"
    }
   ],
   "source": [
    "results.head()"
   ]
  },
  {
   "cell_type": "code",
   "execution_count": 96,
   "metadata": {},
   "outputs": [
    {
     "data": {
      "text/plain": [
       "Index(['train-rmse-mean', 'train-rmse-std', 'test-rmse-mean', 'test-rmse-std'], dtype='object')"
      ]
     },
     "execution_count": 96,
     "metadata": {},
     "output_type": "execute_result"
    }
   ],
   "source": [
    "results.keys()"
   ]
  },
  {
   "cell_type": "code",
   "execution_count": 107,
   "metadata": {},
   "outputs": [
    {
     "name": "stdout",
     "output_type": "stream",
     "text": [
      "column range  13\n",
      "1.4829684994404417\n",
      "4.0\n",
      "3.8687674333403974\n"
     ]
    }
   ],
   "source": [
    "#we want the test-rmse-mean here \n",
    "#because it is important to assess how well the model is expected to behave in a real world \n",
    "# scenario. \n",
    "results['test-rmse-mean'].mean(axis=0)\n",
    "column_range = df311['ERT (Estimated Response Time)'].max() - df311['ERT (Estimated Response Time)'].min()\n",
    "\n",
    "print(\"column range \", column_range)\n",
    "\n",
    "print(results['test-rmse-mean'].mean(axis=0))\n",
    "\n",
    "print(df311['ERT (Estimated Response Time)'].median())\n",
    "print(df311['ERT (Estimated Response Time)'].mean())"
   ]
  },
  {
   "cell_type": "code",
   "execution_count": 111,
   "metadata": {},
   "outputs": [],
   "source": [
    "import matplotlib.pyplot as plt\n",
    "\n",
    "# Train your XGBoost model\n",
    "# Assuming you have your dmatrix objects for training data and labels\n",
    "# Let's call them dtrain\n",
    "xg_reg = xgb.train(params, dtrain_reg, num_boost_round=10000)\n",
    "\n",
    "importance_type = 'weight'  # Can be 'weight', 'gain', or 'cover'\n",
    "feature_importances = xg_reg.get_score(importance_type=importance_type)"
   ]
  },
  {
   "cell_type": "code",
   "execution_count": 112,
   "metadata": {},
   "outputs": [
    {
     "name": "stdout",
     "output_type": "stream",
     "text": [
      "{'City Council District': 34828.0, 'Department': 24458.0, 'Service Request Type': 14107.0, 'Status': 26332.0, 'Priority': 16599.0, 'Zip Code': 63168.0}\n"
     ]
    }
   ],
   "source": [
    "print(feature_importances)"
   ]
  },
  {
   "cell_type": "code",
   "execution_count": 115,
   "metadata": {},
   "outputs": [
    {
     "name": "stdout",
     "output_type": "stream",
     "text": [
      "179492.0\n",
      "City Council District: 19.40%\n",
      "Department: 13.63%\n",
      "Service Request Type: 7.86%\n",
      "Status: 14.67%\n",
      "Priority: 9.25%\n",
      "Zip Code: 35.19%\n"
     ]
    }
   ],
   "source": [
    "total_importances = sum(feature_importances.values())\n",
    "\n",
    "# for feature, importance in \n",
    "# print(feature_importances / total_importances * 100)\n",
    "print(total_importances)\n",
    "\n",
    "for feature, importance in feature_importances.items(): \n",
    "    importance_percentage = (importance / total_importances) * 100\n",
    "    print(f\"{feature}: {importance_percentage:.2f}%\") "
   ]
  },
  {
   "cell_type": "code",
   "execution_count": null,
   "metadata": {},
   "outputs": [],
   "source": []
  },
  {
   "cell_type": "code",
   "execution_count": 56,
   "metadata": {},
   "outputs": [],
   "source": [
    "# # Define hyperparameters\n",
    "# params = {\"objective\": \"reg:squarederror\", \"tree_method\": \"gpu_hist\"}\n",
    "# n = 100\n",
    "# model = xgb.train(\n",
    "#    params=params,\n",
    "#    dtrain=dtrain_reg,\n",
    "#    num_boost_round=n,\n",
    "# )"
   ]
  },
  {
   "cell_type": "code",
   "execution_count": 57,
   "metadata": {},
   "outputs": [],
   "source": [
    "# #evaluation\n",
    "# # from sklearn.metrics import mean_squared_errors\n",
    "\n",
    "# preds = model.predict(dtest_reg)"
   ]
  },
  {
   "cell_type": "code",
   "execution_count": 58,
   "metadata": {},
   "outputs": [],
   "source": [
    "# rmse = mean_squared_error(y_test, preds, squared=False)\n",
    "\n",
    "# print(f\"RMSE of the base model: {rmse:.3f}\")"
   ]
  },
  {
   "cell_type": "code",
   "execution_count": 59,
   "metadata": {},
   "outputs": [],
   "source": [
    "# evals = [(dtrain_reg, \"train\"), (dtest_reg, \"validation\")]\n",
    "# model = xgb.train(\n",
    "#    params=params,\n",
    "#    dtrain=dtrain_reg,\n",
    "#    num_boost_round=n,\n",
    "#    evals=evals,\n",
    "#    verbose_eval=500,\n",
    "#    early_stopping_rounds=50\n",
    "# )"
   ]
  },
  {
   "cell_type": "code",
   "execution_count": 60,
   "metadata": {},
   "outputs": [],
   "source": [
    "# params = {\"objective\": \"reg:squarederror\", \"tree_method\": \"gpu_hist\"}\n",
    "# n = 500\n",
    "\n",
    "# results = xgb.cv(\n",
    "#    params, dtrain_reg,\n",
    "#    num_boost_round=n,\n",
    "#    nfold=5,\n",
    "#    early_stopping_rounds=20\n",
    "# )\n",
    "\n",
    "# # This gives us the results of the spilts\n",
    "# results.head()\n",
    "\n",
    "# # We want to find the minimum rmse-mean \n",
    "# best_rmse = results['test-rmse-mean'].min()\n",
    "\n",
    "# best_rmse\n",
    "\n"
   ]
  },
  {
   "cell_type": "code",
   "execution_count": 61,
   "metadata": {},
   "outputs": [],
   "source": [
    "# len(np.unique(df311['City Council District']))"
   ]
  },
  {
   "cell_type": "code",
   "execution_count": 62,
   "metadata": {},
   "outputs": [
    {
     "name": "stdout",
     "output_type": "stream",
     "text": [
      "col = City Council District 14\n",
      "col = Department 29\n",
      "col = Service Request Type 47\n",
      "col = ERT (Estimated Response Time) 9\n",
      "col = Status 14\n",
      "col = Priority 7\n",
      "col = Zip Code 74\n"
     ]
    }
   ],
   "source": [
    "columns = df311.columns\n",
    "for col in columns: \n",
    "    print(f\"col = {col} {len(np.unique(df311[col]))}\")"
   ]
  },
  {
   "cell_type": "code",
   "execution_count": 63,
   "metadata": {},
   "outputs": [],
   "source": [
    "# params = {\"objective\": \"multi:softprob\", \"tree_method\": \"gpu_hist\", \"num_class\": len(np.unique(df311['City Council District']))}\n",
    "# n = 1000\n",
    "\n",
    "# results = xgb.cv(\n",
    "#    params, dtrain_clf,\n",
    "#    num_boost_round=n,\n",
    "#    nfold=5,\n",
    "#    early_stopping_rounds=100,\n",
    "#    metrics=[\"mlogloss\", \"auc\", \"merror\"],\n",
    "# )\n"
   ]
  }
 ],
 "metadata": {
  "kernelspec": {
   "display_name": "base",
   "language": "python",
   "name": "python3"
  },
  "language_info": {
   "codemirror_mode": {
    "name": "ipython",
    "version": 3
   },
   "file_extension": ".py",
   "mimetype": "text/x-python",
   "name": "python",
   "nbconvert_exporter": "python",
   "pygments_lexer": "ipython3",
   "version": "3.12.3"
  },
  "orig_nbformat": 4,
  "vscode": {
   "interpreter": {
    "hash": "b35f763d444ab06327b0884640afb55a83ab75133a5ec3ef5b6ef94060ad6336"
   }
  }
 },
 "nbformat": 4,
 "nbformat_minor": 2
}
