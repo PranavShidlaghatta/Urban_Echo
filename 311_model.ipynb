{
 "cells": [
  {
   "cell_type": "code",
   "execution_count": 73,
   "metadata": {},
   "outputs": [
    {
     "data": {
      "text/html": [
       "<div>\n",
       "<style scoped>\n",
       "    .dataframe tbody tr th:only-of-type {\n",
       "        vertical-align: middle;\n",
       "    }\n",
       "\n",
       "    .dataframe tbody tr th {\n",
       "        vertical-align: top;\n",
       "    }\n",
       "\n",
       "    .dataframe thead th {\n",
       "        text-align: right;\n",
       "    }\n",
       "</style>\n",
       "<table border=\"1\" class=\"dataframe\">\n",
       "  <thead>\n",
       "    <tr style=\"text-align: right;\">\n",
       "      <th></th>\n",
       "      <th>Address</th>\n",
       "      <th>City Council District</th>\n",
       "      <th>Department</th>\n",
       "      <th>Service Request Type</th>\n",
       "      <th>ERT (Estimated Response Time)</th>\n",
       "      <th>Status</th>\n",
       "      <th>Priority</th>\n",
       "      <th>Unique Key</th>\n",
       "      <th>Lat_Long Location</th>\n",
       "    </tr>\n",
       "  </thead>\n",
       "  <tbody>\n",
       "    <tr>\n",
       "      <th>0</th>\n",
       "      <td>2701 CANTON ST, DALLAS, TX, 75226</td>\n",
       "      <td>2</td>\n",
       "      <td>Code Compliance</td>\n",
       "      <td>Code Concern - CCS</td>\n",
       "      <td>4 Business Days</td>\n",
       "      <td>Closed</td>\n",
       "      <td>Standard</td>\n",
       "      <td>Standard</td>\n",
       "      <td>(32.78202068982446000,-96.78441935829460000)</td>\n",
       "    </tr>\n",
       "    <tr>\n",
       "      <th>1</th>\n",
       "      <td>734 RAYENELL AVE, DALLAS, TX, 75217</td>\n",
       "      <td>5</td>\n",
       "      <td>Water Utilities</td>\n",
       "      <td>Storm Sewer Line Locate - DWU</td>\n",
       "      <td>5 Business Days</td>\n",
       "      <td>Closed (Duplicate)</td>\n",
       "      <td>Standard</td>\n",
       "      <td>Standard</td>\n",
       "      <td>(32.72536547086228000,-96.70604084210902000)</td>\n",
       "    </tr>\n",
       "    <tr>\n",
       "      <th>2</th>\n",
       "      <td>933 FERNWOOD AVE, DALLAS, TX, 75216</td>\n",
       "      <td>4</td>\n",
       "      <td>Code Compliance</td>\n",
       "      <td>Code Concern - CCS</td>\n",
       "      <td>4 Business Days</td>\n",
       "      <td>Closed</td>\n",
       "      <td>Standard</td>\n",
       "      <td>Standard</td>\n",
       "      <td>(32.73791239975091000,-96.80930802963174000)</td>\n",
       "    </tr>\n",
       "    <tr>\n",
       "      <th>3</th>\n",
       "      <td>6216 MOONGLOW DR, DALLAS, TX, 75241</td>\n",
       "      <td>3</td>\n",
       "      <td>Code Compliance</td>\n",
       "      <td>Code Concern - CCS</td>\n",
       "      <td>4 Business Days</td>\n",
       "      <td>Closed</td>\n",
       "      <td>Standard</td>\n",
       "      <td>Standard</td>\n",
       "      <td>(32.67258130750240000,-96.79714596689998000)</td>\n",
       "    </tr>\n",
       "    <tr>\n",
       "      <th>4</th>\n",
       "      <td>1620 TAMPA BAY DR, DALLAS, TX, 75217</td>\n",
       "      <td>8</td>\n",
       "      <td>Code Compliance</td>\n",
       "      <td>Code Concern - CCS</td>\n",
       "      <td>4 Business Days</td>\n",
       "      <td>Closed</td>\n",
       "      <td>Standard</td>\n",
       "      <td>Standard</td>\n",
       "      <td>(32.68602419361726400,-96.66254883934802000)</td>\n",
       "    </tr>\n",
       "  </tbody>\n",
       "</table>\n",
       "</div>"
      ],
      "text/plain": [
       "                                Address  City Council District  \\\n",
       "0     2701 CANTON ST, DALLAS, TX, 75226                      2   \n",
       "1   734 RAYENELL AVE, DALLAS, TX, 75217                      5   \n",
       "2   933 FERNWOOD AVE, DALLAS, TX, 75216                      4   \n",
       "3   6216 MOONGLOW DR, DALLAS, TX, 75241                      3   \n",
       "4  1620 TAMPA BAY DR, DALLAS, TX, 75217                      8   \n",
       "\n",
       "        Department           Service Request Type  \\\n",
       "0  Code Compliance             Code Concern - CCS   \n",
       "1  Water Utilities  Storm Sewer Line Locate - DWU   \n",
       "2  Code Compliance             Code Concern - CCS   \n",
       "3  Code Compliance             Code Concern - CCS   \n",
       "4  Code Compliance             Code Concern - CCS   \n",
       "\n",
       "  ERT (Estimated Response Time)              Status  Priority Unique Key  \\\n",
       "0               4 Business Days              Closed  Standard   Standard   \n",
       "1               5 Business Days  Closed (Duplicate)  Standard   Standard   \n",
       "2               4 Business Days              Closed  Standard   Standard   \n",
       "3               4 Business Days              Closed  Standard   Standard   \n",
       "4               4 Business Days              Closed  Standard   Standard   \n",
       "\n",
       "                              Lat_Long Location  \n",
       "0  (32.78202068982446000,-96.78441935829460000)  \n",
       "1  (32.72536547086228000,-96.70604084210902000)  \n",
       "2  (32.73791239975091000,-96.80930802963174000)  \n",
       "3  (32.67258130750240000,-96.79714596689998000)  \n",
       "4  (32.68602419361726400,-96.66254883934802000)  "
      ]
     },
     "execution_count": 73,
     "metadata": {},
     "output_type": "execute_result"
    }
   ],
   "source": [
    "import seaborn as sns\n",
    "import pandas as pd\n",
    "import numpy as np\n",
    "import matplotlib.pyplot as plt\n",
    "import warnings\n",
    "\n",
    "\n",
    "warnings.filterwarnings(\"ignore\")\n",
    "\n",
    "df311 = pd.read_csv(r\"C:\\Users\\rebel\\UE_work\\Urban_Echo\\311_cleaned.csv\")\n",
    "\n",
    "df311.head()"
   ]
  },
  {
   "cell_type": "code",
   "execution_count": 74,
   "metadata": {},
   "outputs": [
    {
     "name": "stdout",
     "output_type": "stream",
     "text": [
      "City Council District            category\n",
      "Department                       category\n",
      "Service Request Type             category\n",
      "ERT (Estimated Response Time)    category\n",
      "Status                           category\n",
      "Priority                         category\n",
      "dtype: object\n"
     ]
    }
   ],
   "source": [
    "# df311 = df311[df311[\"City Council District\"].str.contains(\",\") == False]\n",
    "df311['City Council District'] = df311['City Council District'].astype('category')\n",
    "df311['Address'] = df311['Address'].astype('category')\n",
    "df311['Department'] = df311['Department'].astype('category')\n",
    "df311['Service Request Type'] = df311['Service Request Type'].astype('category')\n",
    "df311['ERT (Estimated Response Time)'] = df311['ERT (Estimated Response Time)'].astype('category')\n",
    "df311['Status'] = df311['Status'].astype('category')\n",
    "df311['Priority'] = df311['Priority'].astype('category')\n",
    "# df311['Unique Key'] = df311['Priority'].astype('category')\n",
    "# df311['Lat_Long Location'] = df311['Lat_Long Location'].astype('category')\n",
    "df311 = df311.drop(columns='Lat_Long Location')\n",
    "df311 = df311.drop(columns= 'Unique Key')\n",
    "df311 = df311.drop(columns=\"Address\")\n",
    "print(df311.dtypes)"
   ]
  },
  {
   "cell_type": "code",
   "execution_count": 75,
   "metadata": {},
   "outputs": [
    {
     "data": {
      "text/html": [
       "<div>\n",
       "<style scoped>\n",
       "    .dataframe tbody tr th:only-of-type {\n",
       "        vertical-align: middle;\n",
       "    }\n",
       "\n",
       "    .dataframe tbody tr th {\n",
       "        vertical-align: top;\n",
       "    }\n",
       "\n",
       "    .dataframe thead th {\n",
       "        text-align: right;\n",
       "    }\n",
       "</style>\n",
       "<table border=\"1\" class=\"dataframe\">\n",
       "  <thead>\n",
       "    <tr style=\"text-align: right;\">\n",
       "      <th></th>\n",
       "      <th>City Council District</th>\n",
       "      <th>Department</th>\n",
       "      <th>Service Request Type</th>\n",
       "      <th>ERT (Estimated Response Time)</th>\n",
       "      <th>Status</th>\n",
       "      <th>Priority</th>\n",
       "    </tr>\n",
       "  </thead>\n",
       "  <tbody>\n",
       "    <tr>\n",
       "      <th>count</th>\n",
       "      <td>1395463</td>\n",
       "      <td>1395463</td>\n",
       "      <td>1395463</td>\n",
       "      <td>1395463</td>\n",
       "      <td>1395463</td>\n",
       "      <td>1395463</td>\n",
       "    </tr>\n",
       "    <tr>\n",
       "      <th>unique</th>\n",
       "      <td>14</td>\n",
       "      <td>29</td>\n",
       "      <td>247</td>\n",
       "      <td>18</td>\n",
       "      <td>14</td>\n",
       "      <td>7</td>\n",
       "    </tr>\n",
       "    <tr>\n",
       "      <th>top</th>\n",
       "      <td>4</td>\n",
       "      <td>Code Compliance</td>\n",
       "      <td>Code Concern - CCS</td>\n",
       "      <td>4 Business Days</td>\n",
       "      <td>Closed</td>\n",
       "      <td>Standard</td>\n",
       "    </tr>\n",
       "    <tr>\n",
       "      <th>freq</th>\n",
       "      <td>148954</td>\n",
       "      <td>401131</td>\n",
       "      <td>375306</td>\n",
       "      <td>378579</td>\n",
       "      <td>1289645</td>\n",
       "      <td>1031033</td>\n",
       "    </tr>\n",
       "  </tbody>\n",
       "</table>\n",
       "</div>"
      ],
      "text/plain": [
       "        City Council District       Department Service Request Type  \\\n",
       "count                 1395463          1395463              1395463   \n",
       "unique                     14               29                  247   \n",
       "top                         4  Code Compliance   Code Concern - CCS   \n",
       "freq                   148954           401131               375306   \n",
       "\n",
       "       ERT (Estimated Response Time)   Status  Priority  \n",
       "count                        1395463  1395463   1395463  \n",
       "unique                            18       14         7  \n",
       "top                  4 Business Days   Closed  Standard  \n",
       "freq                          378579  1289645   1031033  "
      ]
     },
     "execution_count": 75,
     "metadata": {},
     "output_type": "execute_result"
    }
   ],
   "source": [
    "df311.describe(exclude=np.number)"
   ]
  },
  {
   "cell_type": "code",
   "execution_count": 76,
   "metadata": {},
   "outputs": [],
   "source": [
    "# convert the dtypes from object type to float, int64, etc.\n",
    "# There are string values contained within this column - change the \n",
    "# 311_cleaned.csv file\n",
    "#df311[\"City Council District\"].astype(np.int64)"
   ]
  },
  {
   "cell_type": "code",
   "execution_count": 77,
   "metadata": {},
   "outputs": [],
   "source": [
    "from sklearn.model_selection import train_test_split\n",
    "\n",
    "# Extract feature and target arrays\n",
    "X, y = df311.drop('City Council District', axis=1), df311[['City Council District']]"
   ]
  },
  {
   "cell_type": "code",
   "execution_count": 78,
   "metadata": {},
   "outputs": [],
   "source": [
    "# Split the data\n",
    "X_train, X_test, y_train, y_test = train_test_split(X, y, random_state=1)\n",
    "#print(X_train.dtypes)"
   ]
  },
  {
   "cell_type": "code",
   "execution_count": 79,
   "metadata": {},
   "outputs": [],
   "source": [
    "# Assuming df311['City Council District'] contains your categorical labels\n",
    "# Instantiate LabelEncoder\n",
    "\n",
    "import xgboost as xgb\n",
    "from sklearn.preprocessing import LabelEncoder\n",
    "\n",
    "label_encoder = LabelEncoder()\n",
    "\n",
    "# Fit label encoder and transform the labels\n",
    "encoded_labels = label_encoder.fit_transform(df311['City Council District'])\n",
    "\n",
    "dtrain_clf = xgb.DMatrix(data=X_train, label=encoded_labels[:len(X_train)], enable_categorical=True)\n",
    "dtest_clf = xgb.DMatrix(data=X_test, label=encoded_labels[len(X_train):], enable_categorical=True)\n"
   ]
  },
  {
   "cell_type": "code",
   "execution_count": null,
   "metadata": {},
   "outputs": [],
   "source": []
  },
  {
   "cell_type": "code",
   "execution_count": 80,
   "metadata": {},
   "outputs": [],
   "source": [
    "# import xgboost as xgb\n",
    "\n",
    "# # Create regression matrices\n",
    "# dtrain_clf = xgb.DMatrix(X_train, y_train, enable_categorical=True)\n",
    "# dtest_clf = xgb.DMatrix(X_test, y_test, enable_categorical=True)"
   ]
  },
  {
   "cell_type": "markdown",
   "metadata": {},
   "source": []
  },
  {
   "cell_type": "code",
   "execution_count": 81,
   "metadata": {},
   "outputs": [],
   "source": [
    "import numpy as np "
   ]
  },
  {
   "cell_type": "code",
   "execution_count": 82,
   "metadata": {},
   "outputs": [],
   "source": [
    "# # Define hyperparameters\n",
    "# params = {\"objective\": \"reg:squarederror\", \"tree_method\": \"gpu_hist\"}\n",
    "# n = 100\n",
    "# model = xgb.train(\n",
    "#    params=params,\n",
    "#    dtrain=dtrain_reg,\n",
    "#    num_boost_round=n,\n",
    "# )"
   ]
  },
  {
   "cell_type": "code",
   "execution_count": 83,
   "metadata": {},
   "outputs": [],
   "source": [
    "# #evaluation\n",
    "# # from sklearn.metrics import mean_squared_errors\n",
    "\n",
    "# preds = model.predict(dtest_reg)"
   ]
  },
  {
   "cell_type": "code",
   "execution_count": 84,
   "metadata": {},
   "outputs": [],
   "source": [
    "# rmse = mean_squared_error(y_test, preds, squared=False)\n",
    "\n",
    "# print(f\"RMSE of the base model: {rmse:.3f}\")"
   ]
  },
  {
   "cell_type": "code",
   "execution_count": 85,
   "metadata": {},
   "outputs": [],
   "source": [
    "# evals = [(dtrain_reg, \"train\"), (dtest_reg, \"validation\")]\n",
    "# model = xgb.train(\n",
    "#    params=params,\n",
    "#    dtrain=dtrain_reg,\n",
    "#    num_boost_round=n,\n",
    "#    evals=evals,\n",
    "#    verbose_eval=500,\n",
    "#    early_stopping_rounds=50\n",
    "# )"
   ]
  },
  {
   "cell_type": "code",
   "execution_count": 86,
   "metadata": {},
   "outputs": [],
   "source": [
    "# params = {\"objective\": \"reg:squarederror\", \"tree_method\": \"gpu_hist\"}\n",
    "# n = 500\n",
    "\n",
    "# results = xgb.cv(\n",
    "#    params, dtrain_reg,\n",
    "#    num_boost_round=n,\n",
    "#    nfold=5,\n",
    "#    early_stopping_rounds=20\n",
    "# )\n",
    "\n",
    "# # This gives us the results of the spilts\n",
    "# results.head()\n",
    "\n",
    "# # We want to find the minimum rmse-mean \n",
    "# best_rmse = results['test-rmse-mean'].min()\n",
    "\n",
    "# best_rmse\n",
    "\n"
   ]
  },
  {
   "cell_type": "code",
   "execution_count": 87,
   "metadata": {},
   "outputs": [],
   "source": [
    "# len(np.unique(df311['City Council District']))"
   ]
  },
  {
   "cell_type": "code",
   "execution_count": 88,
   "metadata": {},
   "outputs": [
    {
     "name": "stdout",
     "output_type": "stream",
     "text": [
      "col = City Council District 14\n",
      "col = Department 29\n",
      "col = Service Request Type 247\n",
      "col = ERT (Estimated Response Time) 18\n",
      "col = Status 14\n",
      "col = Priority 7\n"
     ]
    }
   ],
   "source": [
    "columns = df311.columns\n",
    "for col in columns: \n",
    "    print(f\"col = {col} {len(np.unique(df311[col]))}\")"
   ]
  },
  {
   "cell_type": "code",
   "execution_count": 89,
   "metadata": {},
   "outputs": [],
   "source": [
    "params = {\"objective\": \"multi:softprob\", \"tree_method\": \"gpu_hist\", \"num_class\": len(np.unique(df311['City Council District']))}\n",
    "n = 1000\n",
    "\n",
    "results = xgb.cv(\n",
    "   params, dtrain_clf,\n",
    "   num_boost_round=n,\n",
    "   nfold=5,\n",
    "   early_stopping_rounds=100,\n",
    "   metrics=[\"mlogloss\", \"auc\", \"merror\"],\n",
    ")\n"
   ]
  },
  {
   "cell_type": "code",
   "execution_count": 90,
   "metadata": {},
   "outputs": [
    {
     "data": {
      "text/plain": [
       "Index(['train-mlogloss-mean', 'train-mlogloss-std', 'train-auc-mean',\n",
       "       'train-auc-std', 'train-merror-mean', 'train-merror-std',\n",
       "       'test-mlogloss-mean', 'test-mlogloss-std', 'test-auc-mean',\n",
       "       'test-auc-std', 'test-merror-mean', 'test-merror-std'],\n",
       "      dtype='object')"
      ]
     },
     "execution_count": 90,
     "metadata": {},
     "output_type": "execute_result"
    }
   ],
   "source": [
    "results.keys()"
   ]
  },
  {
   "cell_type": "code",
   "execution_count": 93,
   "metadata": {},
   "outputs": [
    {
     "name": "stdout",
     "output_type": "stream",
     "text": [
      "0.8940050468431096\n"
     ]
    }
   ],
   "source": [
    "print(results['test-merror-mean'].max())"
   ]
  },
  {
   "cell_type": "code",
   "execution_count": 94,
   "metadata": {},
   "outputs": [
    {
     "name": "stdout",
     "output_type": "stream",
     "text": [
      "Results = train-mlogloss-mean 2.6284056731228898\n",
      "Results = train-mlogloss-std 5.681175833791123e-05\n",
      "Results = train-auc-mean 0.5144880896016023\n",
      "Results = train-auc-std 0.0002522274784430746\n",
      "Results = train-merror-mean 0.8925123519384759\n",
      "Results = train-merror-std 0.00012066892688503666\n",
      "Results = test-mlogloss-mean 2.629126280954563\n",
      "Results = test-mlogloss-std 0.0002549977235506558\n",
      "Results = test-auc-mean 0.4994789259593803\n",
      "Results = test-auc-std 0.0006677674658970107\n",
      "Results = test-merror-mean 0.8940050468431096\n",
      "Results = test-merror-std 0.00037133817457341456\n"
     ]
    }
   ],
   "source": [
    "# print(\"Results: \", results['test-merror-mean'].max())\n",
    "\n",
    "for i in results.keys():\n",
    "    print(f\"Results = {i} {results[i].max()}\")\n",
    "    #print(\"Results: \", results[i].max())"
   ]
  }
 ],
 "metadata": {
  "kernelspec": {
   "display_name": "base",
   "language": "python",
   "name": "python3"
  },
  "language_info": {
   "codemirror_mode": {
    "name": "ipython",
    "version": 3
   },
   "file_extension": ".py",
   "mimetype": "text/x-python",
   "name": "python",
   "nbconvert_exporter": "python",
   "pygments_lexer": "ipython3",
   "version": "3.12.3"
  },
  "orig_nbformat": 4,
  "vscode": {
   "interpreter": {
    "hash": "b35f763d444ab06327b0884640afb55a83ab75133a5ec3ef5b6ef94060ad6336"
   }
  }
 },
 "nbformat": 4,
 "nbformat_minor": 2
}
